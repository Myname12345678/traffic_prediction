{
 "cells": [
  {
   "cell_type": "code",
   "execution_count": 110,
   "metadata": {
    "ExecuteTime": {
     "end_time": "2018-01-13T16:21:59.780240Z",
     "start_time": "2018-01-13T16:21:59.762962Z"
    }
   },
   "outputs": [],
   "source": [
    "import setup\n",
    "import os\n",
    "import logging\n",
    "reload(setup)\n",
    "reload(logging)\n",
    "logging.basicConfig(level=logging.DEBUG)"
   ]
  },
  {
   "cell_type": "code",
   "execution_count": 111,
   "metadata": {
    "ExecuteTime": {
     "end_time": "2018-01-13T16:22:02.166921Z",
     "start_time": "2018-01-13T16:22:00.483815Z"
    }
   },
   "outputs": [],
   "source": [
    "%pwd\n",
    "%rm -rf datasets1\n",
    "%rm -rf datasets2\n",
    "%mkdir -p datasets1/download\n",
    "%mkdir -p datasets2/download/test\n",
    "%mkdir -p datasets2/download/train\n",
    "\n",
    "# create some test data to validate our code\n",
    "for i in range(0, 100):\n",
    "    os.system('touch datasets1/download/{}.dat'.format(i))\n",
    "\n",
    "for i in range(0, 100):\n",
    "    if i < 80:\n",
    "        os.system('touch datasets2/download/train/{}.dat'.format(i))\n",
    "    else:\n",
    "        os.system('touch datasets2/download/test/{}.dat'.format(i))"
   ]
  },
  {
   "cell_type": "code",
   "execution_count": 112,
   "metadata": {
    "ExecuteTime": {
     "end_time": "2018-01-13T16:22:02.182111Z",
     "start_time": "2018-01-13T16:22:02.168641Z"
    }
   },
   "outputs": [
    {
     "name": "stderr",
     "output_type": "stream",
     "text": [
      "INFO:root:the lab is built at: /home/mingyuan/code/github/traffic_prediction/src/lab/datasets1\n",
      "INFO:root:recreate /home/mingyuan/code/github/traffic_prediction/src/lab/datasets1/train\n",
      "INFO:root:recreate /home/mingyuan/code/github/traffic_prediction/src/lab/datasets1/validation\n",
      "INFO:root:recreate /home/mingyuan/code/github/traffic_prediction/src/lab/datasets1/test\n",
      "INFO:root:recreate /home/mingyuan/code/github/traffic_prediction/src/lab/datasets1/sample/train\n",
      "INFO:root:recreate /home/mingyuan/code/github/traffic_prediction/src/lab/datasets1/sample/validation\n",
      "INFO:root:recreate /home/mingyuan/code/github/traffic_prediction/src/lab/datasets1/sample/test\n",
      "INFO:root:copying 60 as train set, 20 as valid set, 20 as test set\n",
      "INFO:root:taking 6 as train sample\n",
      "INFO:root:taking 2 as validation sample\n",
      "INFO:root:taking 2 as test sample\n"
     ]
    }
   ],
   "source": [
    "env1 = setup.Lab('/home/mingyuan/code/github/traffic_prediction/src/lab/datasets1', 'dat', 0.1)\n",
    "env1.setup_from_single_dataset('download', 0.6, 0.2)"
   ]
  },
  {
   "cell_type": "code",
   "execution_count": 113,
   "metadata": {
    "ExecuteTime": {
     "end_time": "2018-01-13T16:22:02.745728Z",
     "start_time": "2018-01-13T16:22:02.710832Z"
    }
   },
   "outputs": [
    {
     "name": "stderr",
     "output_type": "stream",
     "text": [
      "INFO:root:the lab is built at: /home/mingyuan/code/github/traffic_prediction/src/lab/datasets2\n",
      "INFO:root:recreate /home/mingyuan/code/github/traffic_prediction/src/lab/datasets2/train\n",
      "INFO:root:recreate /home/mingyuan/code/github/traffic_prediction/src/lab/datasets2/validation\n",
      "INFO:root:recreate /home/mingyuan/code/github/traffic_prediction/src/lab/datasets2/test\n",
      "INFO:root:recreate /home/mingyuan/code/github/traffic_prediction/src/lab/datasets2/sample/train\n",
      "INFO:root:recreate /home/mingyuan/code/github/traffic_prediction/src/lab/datasets2/sample/validation\n",
      "INFO:root:recreate /home/mingyuan/code/github/traffic_prediction/src/lab/datasets2/sample/test\n",
      "INFO:root:copying 56 as train set, 24 as valid set, 20 as test set\n",
      "INFO:root:taking 5 as train sample\n",
      "INFO:root:taking 2 as validation sample\n",
      "INFO:root:taking 2 as test sample\n"
     ]
    }
   ],
   "source": [
    "env2 = setup.Lab('/home/mingyuan/code/github/traffic_prediction/src/lab/datasets2', 'dat', 0.1)\n",
    "env2.setup_from_train_test_set('download', 0.7, 0.3)"
   ]
  },
  {
   "cell_type": "code",
   "execution_count": 115,
   "metadata": {
    "ExecuteTime": {
     "end_time": "2018-01-13T16:24:37.677905Z",
     "start_time": "2018-01-13T16:24:36.275695Z"
    }
   },
   "outputs": [
    {
     "name": "stdout",
     "output_type": "stream",
     "text": [
      "54\n",
      "18\n",
      "18\n",
      "6\n",
      "2\n",
      "2\n",
      "51\n",
      "22\n",
      "18\n",
      "5\n",
      "2\n",
      "2\n"
     ]
    }
   ],
   "source": [
    "# validate env\n",
    "!find datasets1/train -name '*.dat' | wc -l\n",
    "!find datasets1/validation -name '*.dat' | wc -l\n",
    "!find datasets1/test -name '*.dat' | wc -l\n",
    "!find datasets1/sample/train -name '*.dat' | wc -l\n",
    "!find datasets1/sample/validation -name '*.dat' | wc -l\n",
    "!find datasets1/sample/test -name '*.dat' | wc -l\n",
    "\n",
    "!find datasets2/train -name '*.dat' | wc -l\n",
    "!find datasets2/validation -name '*.dat' | wc -l\n",
    "!find datasets2/test -name '*.dat' | wc -l\n",
    "!find datasets2/sample/train -name '*.dat' | wc -l\n",
    "!find datasets2/sample/validation -name '*.dat' | wc -l\n",
    "!find datasets2/sample/test -name '*.dat' | wc -l"
   ]
  },
  {
   "cell_type": "code",
   "execution_count": null,
   "metadata": {
    "collapsed": true
   },
   "outputs": [],
   "source": []
  }
 ],
 "metadata": {
  "kernelspec": {
   "display_name": "Python 2",
   "language": "python",
   "name": "python2"
  },
  "language_info": {
   "codemirror_mode": {
    "name": "ipython",
    "version": 2
   },
   "file_extension": ".py",
   "mimetype": "text/x-python",
   "name": "python",
   "nbconvert_exporter": "python",
   "pygments_lexer": "ipython2",
   "version": "2.7.13"
  }
 },
 "nbformat": 4,
 "nbformat_minor": 2
}
