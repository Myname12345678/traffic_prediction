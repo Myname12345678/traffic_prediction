{
 "cells": [
  {
   "cell_type": "code",
   "execution_count": 1,
   "metadata": {
    "ExecuteTime": {
     "end_time": "2018-02-13T06:27:41.528248Z",
     "start_time": "2018-02-13T06:27:41.054974Z"
    },
    "collapsed": true
   },
   "outputs": [],
   "source": [
    "import pandas as pd\n",
    "from matplotlib import pyplot as plt\n",
    "% matplotlib inline"
   ]
  },
  {
   "cell_type": "code",
   "execution_count": 2,
   "metadata": {
    "ExecuteTime": {
     "end_time": "2018-02-13T06:27:42.293621Z",
     "start_time": "2018-02-13T06:27:42.193666Z"
    }
   },
   "outputs": [
    {
     "data": {
      "text/html": [
       "<div>\n",
       "<style>\n",
       "    .dataframe thead tr:only-child th {\n",
       "        text-align: right;\n",
       "    }\n",
       "\n",
       "    .dataframe thead th {\n",
       "        text-align: left;\n",
       "    }\n",
       "\n",
       "    .dataframe tbody tr th {\n",
       "        vertical-align: top;\n",
       "    }\n",
       "</style>\n",
       "<table border=\"1\" class=\"dataframe\">\n",
       "  <thead>\n",
       "    <tr style=\"text-align: right;\">\n",
       "      <th></th>\n",
       "      <th>link_ID</th>\n",
       "      <th>in_links</th>\n",
       "      <th>out_links</th>\n",
       "    </tr>\n",
       "  </thead>\n",
       "  <tbody>\n",
       "    <tr>\n",
       "      <th>65</th>\n",
       "      <td>3377906289228510514</td>\n",
       "      <td>3377906282328510514#9377906281555510514</td>\n",
       "      <td>3377906288228510514</td>\n",
       "    </tr>\n",
       "  </tbody>\n",
       "</table>\n",
       "</div>"
      ],
      "text/plain": [
       "                link_ID                                 in_links  \\\n",
       "65  3377906289228510514  3377906282328510514#9377906281555510514   \n",
       "\n",
       "              out_links  \n",
       "65  3377906288228510514  "
      ]
     },
     "execution_count": 2,
     "metadata": {},
     "output_type": "execute_result"
    }
   ],
   "source": [
    "link_id = 3377906288228510514\n",
    "in_link_id = 3377906289228510514\n",
    "in_link_id_2 = 3377906282328510514\n",
    "out_link_id = 4377906289663800514\n",
    "\n",
    "topo = pd.read_csv('dataset/gy_contest_link_top.txt', sep=';')\n",
    "topo[topo.link_ID==in_link_id]"
   ]
  },
  {
   "cell_type": "code",
   "execution_count": 3,
   "metadata": {
    "ExecuteTime": {
     "end_time": "2018-02-13T06:27:49.254525Z",
     "start_time": "2018-02-13T06:27:42.871060Z"
    },
    "collapsed": true
   },
   "outputs": [],
   "source": [
    "# load dataset\n",
    "train_set = pd.read_csv('dataset/gy_contest_link_traveltime_training_data.txt', sep=';', parse_dates=['date'])"
   ]
  },
  {
   "cell_type": "code",
   "execution_count": 4,
   "metadata": {
    "ExecuteTime": {
     "end_time": "2018-02-13T06:27:49.304691Z",
     "start_time": "2018-02-13T06:27:49.256087Z"
    }
   },
   "outputs": [
    {
     "data": {
      "text/plain": [
       "(645, 4)"
      ]
     },
     "execution_count": 4,
     "metadata": {},
     "output_type": "execute_result"
    }
   ],
   "source": [
    "sample = train_set[train_set.link_ID==link_id]\n",
    "sample = sample[\n",
    "    (sample.date.dt.year==2016)&(sample.date.dt.month==4)&(sample.date.dt.day==10)]\n",
    "sample = sample.sort_values(by='time_interval')\n",
    "sample.shape"
   ]
  },
  {
   "cell_type": "code",
   "execution_count": 5,
   "metadata": {
    "ExecuteTime": {
     "end_time": "2018-02-13T06:27:49.316462Z",
     "start_time": "2018-02-13T06:27:49.305750Z"
    }
   },
   "outputs": [
    {
     "data": {
      "text/html": [
       "<div>\n",
       "<style>\n",
       "    .dataframe thead tr:only-child th {\n",
       "        text-align: right;\n",
       "    }\n",
       "\n",
       "    .dataframe thead th {\n",
       "        text-align: left;\n",
       "    }\n",
       "\n",
       "    .dataframe tbody tr th {\n",
       "        vertical-align: top;\n",
       "    }\n",
       "</style>\n",
       "<table border=\"1\" class=\"dataframe\">\n",
       "  <thead>\n",
       "    <tr style=\"text-align: right;\">\n",
       "      <th></th>\n",
       "      <th>link_ID</th>\n",
       "      <th>date</th>\n",
       "      <th>time_interval</th>\n",
       "      <th>travel_time</th>\n",
       "    </tr>\n",
       "  </thead>\n",
       "  <tbody>\n",
       "    <tr>\n",
       "      <th>6117413</th>\n",
       "      <td>3377906288228510514</td>\n",
       "      <td>2016-04-10</td>\n",
       "      <td>[2016-04-10 00:00:00,2016-04-10 00:02:00)</td>\n",
       "      <td>2.5</td>\n",
       "    </tr>\n",
       "    <tr>\n",
       "      <th>6097322</th>\n",
       "      <td>3377906288228510514</td>\n",
       "      <td>2016-04-10</td>\n",
       "      <td>[2016-04-10 00:02:00,2016-04-10 00:04:00)</td>\n",
       "      <td>2.3</td>\n",
       "    </tr>\n",
       "    <tr>\n",
       "      <th>6086202</th>\n",
       "      <td>3377906288228510514</td>\n",
       "      <td>2016-04-10</td>\n",
       "      <td>[2016-04-10 00:04:00,2016-04-10 00:06:00)</td>\n",
       "      <td>3.0</td>\n",
       "    </tr>\n",
       "    <tr>\n",
       "      <th>6110802</th>\n",
       "      <td>3377906288228510514</td>\n",
       "      <td>2016-04-10</td>\n",
       "      <td>[2016-04-10 00:06:00,2016-04-10 00:08:00)</td>\n",
       "      <td>3.0</td>\n",
       "    </tr>\n",
       "  </tbody>\n",
       "</table>\n",
       "</div>"
      ],
      "text/plain": [
       "                     link_ID       date  \\\n",
       "6117413  3377906288228510514 2016-04-10   \n",
       "6097322  3377906288228510514 2016-04-10   \n",
       "6086202  3377906288228510514 2016-04-10   \n",
       "6110802  3377906288228510514 2016-04-10   \n",
       "\n",
       "                                     time_interval  travel_time  \n",
       "6117413  [2016-04-10 00:00:00,2016-04-10 00:02:00)          2.5  \n",
       "6097322  [2016-04-10 00:02:00,2016-04-10 00:04:00)          2.3  \n",
       "6086202  [2016-04-10 00:04:00,2016-04-10 00:06:00)          3.0  \n",
       "6110802  [2016-04-10 00:06:00,2016-04-10 00:08:00)          3.0  "
      ]
     },
     "execution_count": 5,
     "metadata": {},
     "output_type": "execute_result"
    }
   ],
   "source": [
    "sample.head(4)"
   ]
  },
  {
   "cell_type": "code",
   "execution_count": 6,
   "metadata": {
    "ExecuteTime": {
     "end_time": "2018-02-13T06:27:49.570301Z",
     "start_time": "2018-02-13T06:27:49.318100Z"
    }
   },
   "outputs": [
    {
     "data": {
      "text/plain": [
       "<matplotlib.text.Text at 0x7f52ccc3c6d0>"
      ]
     },
     "execution_count": 6,
     "metadata": {},
     "output_type": "execute_result"
    },
    {
     "data": {
      "image/png": "[encoded data removed]",
      "text/plain": [
       "<matplotlib.figure.Figure at 0x7f52cc2cbd90>"
      ]
     },
     "metadata": {},
     "output_type": "display_data"
    }
   ],
   "source": [
    "plt.clf()\n",
    "y = [sample.iloc[i]['travel_time'] for i in range(300, 400, 1)]\n",
    "x = [sample.iloc[i + 1]['travel_time'] for i in range(300, 400, 1)]\n",
    "plt.scatter(x, y, label='vs 2 min ago')\n",
    "\n",
    "y = [sample.iloc[i]['travel_time'] for i in range(300, 400, 1)]\n",
    "x = [sample.iloc[i + 2]['travel_time'] for i in range(300, 400, 1)]\n",
    "plt.scatter(x, y, label='vs 4 min ago')\n",
    "\n",
    "y = [sample.iloc[i]['travel_time'] for i in range(300, 400, 1)]\n",
    "x = [sample.iloc[i + 5]['travel_time'] for i in range(300, 400, 1)]\n",
    "plt.scatter(x, y, label='vs 10 min ago')\n",
    "plt.legend(loc = 'upper right')\n",
    "plt.xlabel('travel time')\n",
    "plt.ylabel('history travel time')"
   ]
  },
  {
   "cell_type": "code",
   "execution_count": 82,
   "metadata": {
    "ExecuteTime": {
     "end_time": "2018-01-14T16:36:38.475886Z",
     "start_time": "2018-01-14T16:36:38.459959Z"
    },
    "collapsed": true
   },
   "outputs": [],
   "source": [
    "plt.plot?"
   ]
  },
  {
   "cell_type": "code",
   "execution_count": 44,
   "metadata": {
    "ExecuteTime": {
     "end_time": "2018-01-15T16:47:49.646686Z",
     "start_time": "2018-01-15T16:47:48.939993Z"
    }
   },
   "outputs": [
    {
     "data": {
      "text/plain": [
       "(581, 8)"
      ]
     },
     "execution_count": 44,
     "metadata": {},
     "output_type": "execute_result"
    },
    {
     "data": {
      "image/png": "[encoded data removed]",
      "text/plain": [
       "<matplotlib.figure.Figure at 0x7f8b8c05c690>"
      ]
     },
     "metadata": {},
     "output_type": "display_data"
    }
   ],
   "source": [
    "sample_base = train_set[(train_set.date.dt.year==2016)&(train_set.date.dt.month==4)&(train_set.date.dt.day==10)]\n",
    "sample1 = sample_base[sample_base.link_ID==link_id]\n",
    "sample2 = sample_base[sample_base.link_ID==in_link_id]\n",
    "sample3 = sample_base[sample_base.link_ID==out_link_id]\n",
    "sample4 = sample_base[sample_base.link_ID==in_link_id_2]\n",
    "\n",
    "joined = pd.merge(sample1, sample2, on=['date', 'time_interval'], suffixes=('', '_in'))\n",
    "joined = pd.merge(joined, sample4, on=['date', 'time_interval'], suffixes=('', '_in_2'))\n",
    "joined = joined.sort_values('time_interval')\n",
    "joined.travel_time_in = joined.travel_time_in.shift(1)\n",
    "joined.travel_time_in_2 = joined.travel_time_in_2.shift(1)\n",
    "\n",
    "plt.clf()\n",
    "plt.scatter(\n",
    "    joined.travel_time_in.iloc[200:300], \n",
    "    joined.travel_time.iloc[200:300], label='vs 1st order neighbour')\n",
    "plt.scatter(\n",
    "    joined.travel_time_in_2.iloc[200:300], \n",
    "    joined.travel_time.iloc[200:300], label='vs 2nd order neighbour')\n",
    "plt.legend(loc = 'upper right')\n",
    "plt.xlabel('travel time')\n",
    "plt.ylabel('neighbor travel time')\n",
    "joined.shape"
   ]
  },
  {
   "cell_type": "code",
   "execution_count": null,
   "metadata": {
    "collapsed": true
   },
   "outputs": [],
   "source": []
  }
 ],
 "metadata": {
  "kernelspec": {
   "display_name": "Python 2",
   "language": "python",
   "name": "python2"
  },
  "language_info": {
   "codemirror_mode": {
    "name": "ipython",
    "version": 2
   },
   "file_extension": ".py",
   "mimetype": "text/x-python",
   "name": "python",
   "nbconvert_exporter": "python",
   "pygments_lexer": "ipython2",
   "version": "2.7.13"
  }
 },
 "nbformat": 4,
 "nbformat_minor": 2
}
