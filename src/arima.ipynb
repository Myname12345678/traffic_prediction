{
 "cells": [
  {
   "cell_type": "markdown",
   "metadata": {
    "ExecuteTime": {
     "end_time": "2018-02-23T08:40:09.382527Z",
     "start_time": "2018-02-23T08:40:09.377653Z"
    }
   },
   "source": [
    "# ARIMA model on history travel time"
   ]
  },
  {
   "cell_type": "code",
   "execution_count": 2,
   "metadata": {
    "ExecuteTime": {
     "end_time": "2018-02-27T06:30:20.109760Z",
     "start_time": "2018-02-27T06:30:19.716493Z"
    }
   },
   "outputs": [
    {
     "name": "stderr",
     "output_type": "stream",
     "text": [
      "/home/mingyuan/anaconda3/lib/python3.6/site-packages/statsmodels/compat/pandas.py:56: FutureWarning: The pandas.core.datetools module is deprecated and will be removed in a future version. Please use the pandas.tseries module instead.\n",
      "  from pandas.core import datetools\n"
     ]
    }
   ],
   "source": [
    "%matplotlib inline\n",
    "import lab.setup\n",
    "import functools\n",
    "import pandas as pd\n",
    "import numpy as np\n",
    "import numba\n",
    "\n",
    "from pandas.tseries.offsets import *\n",
    "\n",
    "import statsmodels.api as sm\n",
    "import statsmodels.tsa.arima_model as arima_model\n",
    "\n",
    "from statsmodels.graphics.api import qqplot\n",
    "\n",
    "g_region_temporal = 5\n",
    "g_region_spatial  = 1\n",
    "\n",
    "DATA_PATH = 'dataset'"
   ]
  },
  {
   "cell_type": "markdown",
   "metadata": {
    "ExecuteTime": {
     "end_time": "2018-02-23T08:40:44.906532Z",
     "start_time": "2018-02-23T08:40:44.901752Z"
    }
   },
   "source": [
    "## load prepared data from linear.ipynb&& build features"
   ]
  },
  {
   "cell_type": "code",
   "execution_count": 3,
   "metadata": {
    "ExecuteTime": {
     "end_time": "2018-02-27T06:30:20.774827Z",
     "start_time": "2018-02-27T06:30:20.578737Z"
    },
    "collapsed": true
   },
   "outputs": [],
   "source": [
    "ds_train_full = pd.read_csv('dataset/ds_filled_s1.csv', dtype={'link_ID':'uint64'}, low_memory=False)"
   ]
  },
  {
   "cell_type": "code",
   "execution_count": 4,
   "metadata": {
    "ExecuteTime": {
     "end_time": "2018-02-27T06:30:21.002043Z",
     "start_time": "2018-02-27T06:30:20.960099Z"
    }
   },
   "outputs": [
    {
     "data": {
      "text/html": [
       "<div>\n",
       "<style>\n",
       "    .dataframe thead tr:only-child th {\n",
       "        text-align: right;\n",
       "    }\n",
       "\n",
       "    .dataframe thead th {\n",
       "        text-align: left;\n",
       "    }\n",
       "\n",
       "    .dataframe tbody tr th {\n",
       "        vertical-align: top;\n",
       "    }\n",
       "</style>\n",
       "<table border=\"1\" class=\"dataframe\">\n",
       "  <thead>\n",
       "    <tr style=\"text-align: right;\">\n",
       "      <th></th>\n",
       "      <th>link_ID</th>\n",
       "      <th>time_intv</th>\n",
       "      <th>date</th>\n",
       "      <th>time_interval</th>\n",
       "      <th>travel_time</th>\n",
       "      <th>in_links</th>\n",
       "      <th>out_links</th>\n",
       "      <th>filled</th>\n",
       "      <th>uplink_0</th>\n",
       "      <th>uplink_1</th>\n",
       "      <th>uplink_2</th>\n",
       "      <th>uplink_3</th>\n",
       "      <th>downlink_0</th>\n",
       "      <th>downlink_1</th>\n",
       "      <th>downlink_2</th>\n",
       "      <th>downlink_3</th>\n",
       "      <th>uplink_mean_tt</th>\n",
       "      <th>downlink_mean_tt</th>\n",
       "    </tr>\n",
       "  </thead>\n",
       "  <tbody>\n",
       "    <tr>\n",
       "      <th>0</th>\n",
       "      <td>3377906280028510514</td>\n",
       "      <td>2016-03-03 00:00:00</td>\n",
       "      <td>NaN</td>\n",
       "      <td>NaN</td>\n",
       "      <td>5.1</td>\n",
       "      <td>4377906282541600514</td>\n",
       "      <td>4377906280763800514</td>\n",
       "      <td>True</td>\n",
       "      <td>4377906282541600514</td>\n",
       "      <td>0</td>\n",
       "      <td>0</td>\n",
       "      <td>0</td>\n",
       "      <td>4377906280763800514</td>\n",
       "      <td>0</td>\n",
       "      <td>0</td>\n",
       "      <td>0</td>\n",
       "      <td>55.4</td>\n",
       "      <td>8.4</td>\n",
       "    </tr>\n",
       "  </tbody>\n",
       "</table>\n",
       "</div>"
      ],
      "text/plain": [
       "               link_ID            time_intv date time_interval  travel_time  \\\n",
       "0  3377906280028510514  2016-03-03 00:00:00  NaN           NaN          5.1   \n",
       "\n",
       "              in_links            out_links  filled             uplink_0  \\\n",
       "0  4377906282541600514  4377906280763800514    True  4377906282541600514   \n",
       "\n",
       "   uplink_1  uplink_2  uplink_3           downlink_0  downlink_1  downlink_2  \\\n",
       "0         0         0         0  4377906280763800514           0           0   \n",
       "\n",
       "   downlink_3  uplink_mean_tt  downlink_mean_tt  \n",
       "0           0            55.4               8.4  "
      ]
     },
     "execution_count": 4,
     "metadata": {},
     "output_type": "execute_result"
    }
   ],
   "source": [
    "ds_train_full.head(1)"
   ]
  },
  {
   "cell_type": "markdown",
   "metadata": {},
   "source": [
    "## with statsmodels pkg"
   ]
  },
  {
   "cell_type": "code",
   "execution_count": 5,
   "metadata": {
    "ExecuteTime": {
     "end_time": "2018-02-27T06:30:21.515523Z",
     "start_time": "2018-02-27T06:30:21.445546Z"
    }
   },
   "outputs": [],
   "source": [
    "TRAIN_SET_RATIO = 0.80\n",
    "\n",
    "def get_series(df):\n",
    "    s = df['travel_time']\n",
    "    s.index = df['time_intv']\n",
    "    s.index = pd.to_datetime(s.index)\n",
    "    return s\n",
    "    \n",
    "link_no = ds_train_full.link_ID.unique().shape[0]\n",
    "series_train = []\n",
    "series_valid = []\n",
    "counter = 0\n",
    "for link_ID, link_ds in ds_train_full.groupby('link_ID'):\n",
    "    counter += 1\n",
    "    if link_ds.shape[0] != 720:\n",
    "        print('!!!!!')\n",
    "        \n",
    "    if counter < link_no * TRAIN_SET_RATIO:\n",
    "        series_train.append(get_series(link_ds))\n",
    "    else:\n",
    "        series_valid.append(get_series(link_ds))"
   ]
  },
  {
   "cell_type": "code",
   "execution_count": 9,
   "metadata": {
    "ExecuteTime": {
     "end_time": "2018-02-27T06:46:51.409578Z",
     "start_time": "2018-02-27T06:45:04.274851Z"
    }
   },
   "outputs": [
    {
     "name": "stdout",
     "output_type": "stream",
     "text": [
      "mean running loss: 0.2100010038474481\n",
      "mean running loss: 0.20134923742857372\n",
      "mean running loss: 0.20912543588405966\n",
      "===== process:9841, qdp:(3, 0, 4), train-loss: 0.2092399314188365, valid-loss: 0.18407242805422236 =====\n"
     ]
    },
    {
     "data": {
      "text/plain": [
       "(0.2092399314188365, 0.18407242805422236, (3, 0, 4))"
      ]
     },
     "execution_count": 9,
     "metadata": {},
     "output_type": "execute_result"
    }
   ],
   "source": [
    "import matplotlib.pyplot as plt\n",
    "import warnings\n",
    "import multiprocessing.pool as pool\n",
    "import os\n",
    "\n",
    "best_args = (3, 0, 4)\n",
    "\n",
    "def mape(y_hat, y):\n",
    "    \"\"\"Compute root mean squared error\"\"\"\n",
    "    return np.mean(((y - y_hat) / y).abs())\n",
    "\n",
    "def train_multi_series(series, p, d, q):\n",
    "    params = None\n",
    "    running_loss = 0.0\n",
    "    counter = 0\n",
    "    for s in series:\n",
    "        with warnings.catch_warnings():\n",
    "            warnings.simplefilter(\"ignore\")\n",
    "            try:\n",
    "                arma_mod = sm.tsa.ARIMA(s, order=(p, d, q))\n",
    "                arma_res = arma_mod.fit(start_params=params)\n",
    "            except Exception as e:\n",
    "                # print(e)\n",
    "                continue\n",
    "                \n",
    "            params = arma_res.params\n",
    "            yhat = arma_res.predict(start='2016-03-03 01:00:00', end='2016-03-03 23:59:59', dynamic=False)\n",
    "            loss = mape(yhat, s['2016-03-03 01:00:00':'2016-03-03 23:59:59'])\n",
    "            \n",
    "            running_loss += loss\n",
    "            counter += 1\n",
    "            \n",
    "            if counter % 30 == 0:\n",
    "                print('mean running loss:', running_loss / counter)\n",
    "    \n",
    "    # fig, ax = plt.subplots(figsize=(5,4))\n",
    "    # fig = arma_res.plot_predict(start='2016-03-03 00:00:00', end='2016-03-04 02:00:00', ax=ax)\n",
    "    # legend = ax.legend(loc='upper left')\n",
    "    return running_loss / counter, arma_res\n",
    "\n",
    "def validate(series, trained_params, p, d, q):\n",
    "    running_loss = 0.0\n",
    "    counter = 0\n",
    "    for s in series:\n",
    "        with warnings.catch_warnings():\n",
    "            warnings.simplefilter(\"ignore\")\n",
    "            try:\n",
    "                arma_mod = sm.tsa.ARIMA(s, order=(p, d, q))\n",
    "                arma_mod.k_trend, arma_mod.exog = arima_model._make_arma_exog(s, None, 'c')\n",
    "                arma_mod.nobs = s.shape[0]\n",
    "                arma_mod.transparams = False\n",
    "                # res = arma_mod.fit(start_params=trained_params)\n",
    "            except Exception as e:\n",
    "                raise\n",
    "                continue\n",
    "                \n",
    "            yhat = arma_mod.predict(\n",
    "                trained_params, start='2016-03-03 01:00:00', end='2016-03-03 23:59:59', dynamic=False)\n",
    "            loss = mape(yhat, s['2016-03-03 01:00:00':'2016-03-03 23:59:59'])\n",
    "            running_loss += loss\n",
    "            counter += 1\n",
    "    \n",
    "    if counter == 0:\n",
    "        # failed to converge\n",
    "        return 1e6\n",
    "        \n",
    "    return running_loss / counter\n",
    "\n",
    "def train_pqd(p, d, q):\n",
    "    loss, arma_res = train_multi_series(series_train, p, d, q)\n",
    "    valid_loss = validate(series_valid, arma_res.params, p, d, q)\n",
    "    print(\"===== process:{}, qdp:{}, train-loss: {}, valid-loss: {} =====\".format(\n",
    "        os.getpid(), (p, d, q), loss, valid_loss))\n",
    "    \n",
    "    return loss, valid_loss, (p, d, q)\n",
    "\n",
    "def grid_search():\n",
    "    exec_pool = pool.Pool()\n",
    "    results = []\n",
    "    best = 1e6\n",
    "    best_valid = 1e6\n",
    "    for p in range(1, 5 + 1):\n",
    "        for d in range(0, 1 + 1):\n",
    "            for q in range(1, 5 + 1):\n",
    "                results.append(exec_pool.apply_async(train_pqd, (p, d, q)))\n",
    "    exec_pool.close()\n",
    "    exec_pool.join()\n",
    "\n",
    "    for result in results:\n",
    "        r = result.get()\n",
    "        valid_loss = r[1]\n",
    "        if valid_loss < best_valid:\n",
    "            best_valid = valid_loss\n",
    "            best = r[0]\n",
    "            best_args = r[2]\n",
    "\n",
    "    print(\"===== best train-loss: {}, valid-loss: {} =====\".format(best, best_valid))\n",
    "\n",
    "train_pqd(3, 0, 4)"
   ]
  },
  {
   "cell_type": "code",
   "execution_count": 6,
   "metadata": {
    "ExecuteTime": {
     "end_time": "2018-02-26T08:58:39.433881Z",
     "start_time": "2018-02-26T08:58:39.429366Z"
    }
   },
   "outputs": [
    {
     "name": "stdout",
     "output_type": "stream",
     "text": [
      "0.20959066377419935 0.1626550771151752 (3, 0, 4)\n"
     ]
    }
   ],
   "source": [
    "print(best, best_valid, best_args)"
   ]
  }
 ],
 "metadata": {
  "kernelspec": {
   "display_name": "Python 3",
   "language": "python",
   "name": "python3"
  },
  "language_info": {
   "codemirror_mode": {
    "name": "ipython",
    "version": 3
   },
   "file_extension": ".py",
   "mimetype": "text/x-python",
   "name": "python",
   "nbconvert_exporter": "python",
   "pygments_lexer": "ipython3",
   "version": "3.6.3"
  }
 },
 "nbformat": 4,
 "nbformat_minor": 2
}
